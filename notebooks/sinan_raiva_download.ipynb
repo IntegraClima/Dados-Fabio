{
 "cells": [
  {
   "cell_type": "markdown",
   "metadata": {},
   "source": [
    "# Download dos casos de Raiva \n",
    "\n",
    "#### Os casos de Raiva foram baixados a partir do repositório do Sistema de Informação de Agravos de Notificação (SINAN),  que é alimentado, principalmente, pela notificação e investigação de casos de doenças e agravos que constam da lista nacional de doenças de notificação compulsória.  O downlod foi feito a partir do Package Python PySUS, criado para auxiliar no acesso e manipulação de base de dados publicadas pelo DATASUS.\n",
    "\n",
    "#### Maiores informações em:\n",
    "\n",
    " - [SINAN] (https://portalsinan.saude.gov.br/sinan-net)\n",
    " - [Raiva Humana] (https://portalsinan.saude.gov.br/raiva-humana)\n",
    " - [PySUS] (https://pysus.readthedocs.io/en/latest/)\n"
   ]
  },
  {
   "cell_type": "markdown",
   "metadata": {},
   "source": [
    "#### 1 - Importando o método SINAN do pacote PySUS"
   ]
  },
  {
   "cell_type": "code",
   "execution_count": 2,
   "metadata": {},
   "outputs": [],
   "source": [
    "from pysus.ftp.databases.sinan import SINAN\n"
   ]
  },
  {
   "cell_type": "markdown",
   "metadata": {},
   "source": [
    "#### 2 - Carregando os dados a partir do servidor do DataSUS"
   ]
  },
  {
   "cell_type": "code",
   "execution_count": 3,
   "metadata": {},
   "outputs": [],
   "source": [
    "sinan = SINAN().load()"
   ]
  },
  {
   "cell_type": "markdown",
   "metadata": {},
   "source": [
    "#### 3 - Lista os arquivos disponíveis para Raiva"
   ]
  },
  {
   "cell_type": "code",
   "execution_count": 4,
   "metadata": {},
   "outputs": [],
   "source": [
    "arquivos = sinan.get_files(dis_code=[\"RAIV\"])"
   ]
  },
  {
   "cell_type": "markdown",
   "metadata": {},
   "source": [
    "#### 4 - Download dos arquivos disponíveis"
   ]
  },
  {
   "cell_type": "code",
   "execution_count": 5,
   "metadata": {},
   "outputs": [],
   "source": [
    "import pandas as pd\n",
    "import pyarrow\n",
    "import pyarrow.parquet as pq"
   ]
  },
  {
   "cell_type": "code",
   "execution_count": 6,
   "metadata": {},
   "outputs": [],
   "source": [
    "import os"
   ]
  },
  {
   "cell_type": "code",
   "execution_count": 7,
   "metadata": {},
   "outputs": [
    {
     "name": "stderr",
     "output_type": "stream",
     "text": [
      "100%|██████████| 14.3k/14.3k [00:00<00:00, 6.05MB/s]\n"
     ]
    }
   ],
   "source": [
    "parquets = sinan.download(arquivos)"
   ]
  },
  {
   "cell_type": "code",
   "execution_count": 8,
   "metadata": {},
   "outputs": [],
   "source": [
    "files = []\n",
    "input_folder = \"/home/limafb/pysus/\"\n",
    "target_path = \"/home/limafb/pysus/sinan_raiva.parquet\"\n",
    "\n",
    "for file_name in os.listdir(input_folder):\n",
    "    if file_name.startswith('RAIV'):\n",
    "        files.append(pq.read_table(os.path.join(input_folder, file_name)))\n",
    "\n",
    "with pq.ParquetWriter(\n",
    "    target_path, \n",
    "    files[0].schema, \n",
    "    version='2.6', \n",
    "    compression='gzip', \n",
    "    use_dictionary=True, \n",
    "    data_page_size=2097152, #2MB \n",
    "    write_statistics=True) as writer:\n",
    "        for f in files:\n",
    "              writer.write_table(f)"
   ]
  },
  {
   "cell_type": "code",
   "execution_count": 9,
   "metadata": {},
   "outputs": [],
   "source": [
    "sinan_raiva = pq.read_table(\"sinan_raiva.parquet\")"
   ]
  },
  {
   "cell_type": "code",
   "execution_count": 10,
   "metadata": {},
   "outputs": [],
   "source": [
    "df = sinan_raiva.to_pandas()"
   ]
  },
  {
   "cell_type": "code",
   "execution_count": 11,
   "metadata": {},
   "outputs": [
    {
     "name": "stdout",
     "output_type": "stream",
     "text": [
      "<class 'pandas.core.frame.DataFrame'>\n",
      "RangeIndex: 1679 entries, 0 to 1678\n",
      "Data columns (total 94 columns):\n",
      " #   Column      Non-Null Count  Dtype \n",
      "---  ------      --------------  ----- \n",
      " 0   TP_NOT      1679 non-null   object\n",
      " 1   ID_AGRAVO   1679 non-null   object\n",
      " 2   DT_NOTIFIC  1679 non-null   object\n",
      " 3   SEM_NOT     1679 non-null   object\n",
      " 4   NU_ANO      1679 non-null   object\n",
      " 5   SG_UF_NOT   1679 non-null   object\n",
      " 6   ID_MUNICIP  1679 non-null   object\n",
      " 7   ID_REGIONA  1679 non-null   object\n",
      " 8   ID_UNIDADE  1679 non-null   object\n",
      " 9   DT_SIN_PRI  1679 non-null   object\n",
      " 10  SEM_PRI     1679 non-null   object\n",
      " 11  ANO_NASC    1679 non-null   object\n",
      " 12  NU_IDADE_N  1679 non-null   object\n",
      " 13  CS_SEXO     1679 non-null   object\n",
      " 14  CS_GESTANT  1679 non-null   object\n",
      " 15  CS_RACA     1679 non-null   object\n",
      " 16  CS_ESCOL_N  1679 non-null   object\n",
      " 17  SG_UF       1679 non-null   object\n",
      " 18  ID_MN_RESI  1679 non-null   object\n",
      " 19  ID_RG_RESI  1679 non-null   object\n",
      " 20  ID_PAIS     1679 non-null   object\n",
      " 21  NDUPLIC_N   1679 non-null   object\n",
      " 22  CS_FLXRET   1679 non-null   object\n",
      " 23  FLXRECEBI   1679 non-null   object\n",
      " 24  MIGRADO_W   1679 non-null   object\n",
      " 25  DT_INVEST   1679 non-null   object\n",
      " 26  ID_OCUPA_N  1679 non-null   object\n",
      " 27  ARRANHAO    1679 non-null   object\n",
      " 28  LAMBEDURA   1679 non-null   object\n",
      " 29  MORDEDURA   1679 non-null   object\n",
      " 30  CONTATO     1679 non-null   object\n",
      " 31  MUCOSA      1679 non-null   object\n",
      " 32  CABECA      1679 non-null   object\n",
      " 33  MAOS_N      1679 non-null   object\n",
      " 34  PES         1679 non-null   object\n",
      " 35  TRONCO      1679 non-null   object\n",
      " 36  SUPERIORES  1679 non-null   object\n",
      " 37  INFERIORES  1679 non-null   object\n",
      " 38  FERIMENT_N  1679 non-null   object\n",
      " 39  PROFUNDO    1679 non-null   object\n",
      " 40  SUPERFICIA  1679 non-null   object\n",
      " 41  DILACERANT  1679 non-null   object\n",
      " 42  DT_EXPO     1679 non-null   object\n",
      " 43  ANTEC_PRE   1679 non-null   object\n",
      " 44  ANTEC_POS   1679 non-null   object\n",
      " 45  NUM_DOSES   1679 non-null   object\n",
      " 46  DT_TR_RAB   1679 non-null   object\n",
      " 47  ESPECIE_N   1679 non-null   object\n",
      " 48  ESP_OUT     1679 non-null   object\n",
      " 49  VACINAD     1679 non-null   object\n",
      " 50  HOSPITALIZ  1679 non-null   object\n",
      " 51  DT_INTERNA  1679 non-null   object\n",
      " 52  UF          1679 non-null   object\n",
      " 53  MUNICIPIO   1679 non-null   object\n",
      " 54  AEROFOBIA   1679 non-null   object\n",
      " 55  HIDROFOBI   1679 non-null   object\n",
      " 56  DISFAGIA    1679 non-null   object\n",
      " 57  PARESTESI   1679 non-null   object\n",
      " 58  AGRESSIVI   1679 non-null   object\n",
      " 59  PARALISIA   1679 non-null   object\n",
      " 60  AGITACAO    1679 non-null   object\n",
      " 61  FEBRE       1679 non-null   object\n",
      " 62  OUTRO       1679 non-null   object\n",
      " 63  OUTRO_DES   1679 non-null   object\n",
      " 64  ANTI_RAB    1679 non-null   object\n",
      " 65  DT_R_TRA    1679 non-null   object\n",
      " 66  DOSES_A     1679 non-null   object\n",
      " 67  DT_VAC1     1679 non-null   object\n",
      " 68  DT_VAC_ULT  1679 non-null   object\n",
      " 69  TRA_SORO    1679 non-null   object\n",
      " 70  DT_APLI_SO  1679 non-null   object\n",
      " 71  QUANTID     1679 non-null   object\n",
      " 72  INFILTRA    1679 non-null   object\n",
      " 73  IMUNO_DIRE  1679 non-null   object\n",
      " 74  IMUNO_INDI  1679 non-null   object\n",
      " 75  HISTOLOG_N  1679 non-null   object\n",
      " 76  PROVA_BIOL  1679 non-null   object\n",
      " 77  VARIA_VIR   1679 non-null   object\n",
      " 78  CLASSI_FIN  1679 non-null   object\n",
      " 79  CRITERIO    1679 non-null   object\n",
      " 80  TPAUTOCTO   1679 non-null   object\n",
      " 81  COUFINF     1679 non-null   object\n",
      " 82  COPAISINF   1679 non-null   object\n",
      " 83  COMUNINF    1679 non-null   object\n",
      " 84  DOENCA_TRA  1679 non-null   object\n",
      " 85  DT_OBITO    1679 non-null   object\n",
      " 86  DT_ENCERRA  1679 non-null   object\n",
      " 87  DT_DIGITA   1679 non-null   object\n",
      " 88  DT_TRANSUS  1679 non-null   object\n",
      " 89  DT_TRANSDM  1679 non-null   object\n",
      " 90  DT_TRANSSM  1679 non-null   object\n",
      " 91  DT_TRANSRM  1679 non-null   object\n",
      " 92  DT_TRANSRS  1679 non-null   object\n",
      " 93  DT_TRANSSE  1679 non-null   object\n",
      "dtypes: object(94)\n",
      "memory usage: 1.2+ MB\n"
     ]
    }
   ],
   "source": [
    "df.info()"
   ]
  },
  {
   "cell_type": "markdown",
   "metadata": {},
   "source": [
    "#### 05 - Exportando em CSV para criar um indicador no Visão por Município e por Ano"
   ]
  },
  {
   "cell_type": "code",
   "execution_count": null,
   "metadata": {},
   "outputs": [],
   "source": [
    "# Reordenando as colunas e agrupandoos dados por ano e município para criar um indicador no Visão\n",
    "sinan_raiva_mun_ano_2007_2021 = merged.groupby(['code_muni', 'NU_ANO']).size().reset_index(name='valor')"
   ]
  },
  {
   "cell_type": "code",
   "execution_count": null,
   "metadata": {},
   "outputs": [],
   "source": [
    "# Converte a coluna 'code_muni' de float para int em uma nova coluna 'geocode'\n",
    "sinan_raiva_mun_ano_2007_2021['geocode'] = sinan_raiva_mun_ano_2007_2021['code_muni'].astype('Int64')"
   ]
  },
  {
   "cell_type": "code",
   "execution_count": null,
   "metadata": {},
   "outputs": [],
   "source": [
    "#Criar o campo 'data' e padronizar a partir do valor da coluna 'NU_ANO'\n",
    "sinan_raiva_mun_ano_2007_2021['data'] = \"31/12/\" + sinan_raiva_mun_ano_2007_2021['NU_ANO'].astype(str)"
   ]
  },
  {
   "cell_type": "code",
   "execution_count": null,
   "metadata": {},
   "outputs": [],
   "source": [
    "sinan_raiva_mun_ano_2007_2021_visao = sinan_raiva_mun_ano_2007_2021[['geocode', 'valor', 'data']]"
   ]
  },
  {
   "cell_type": "code",
   "execution_count": null,
   "metadata": {},
   "outputs": [],
   "source": [
    "# Remover os registros com valores na\n",
    "sinan_raiva_2007_2021_visao = sinan_raiva_2007_2021_visao.dropna()"
   ]
  }
 ],
 "metadata": {
  "kernelspec": {
   "display_name": ".venv",
   "language": "python",
   "name": "python3"
  },
  "language_info": {
   "codemirror_mode": {
    "name": "ipython",
    "version": 3
   },
   "file_extension": ".py",
   "mimetype": "text/x-python",
   "name": "python",
   "nbconvert_exporter": "python",
   "pygments_lexer": "ipython3",
   "version": "3.10.12"
  }
 },
 "nbformat": 4,
 "nbformat_minor": 2
}
